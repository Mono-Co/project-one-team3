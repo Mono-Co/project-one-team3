


# Dependencies and Setup
from pathlib import Path
import pandas as pd
import hvplot.pandas
import numpy as np
import matplotlib.pyplot as plt
import statistics as st
import scipy.stats as stpy
from scipy.stats import linregress
import matplotlib.ticker as ticker
import nasdaqdatalink








# Use Pandas Nasdaq Data Link to get stock data

GOOG_stock = nasdaqdatalink.get_table('QUOTEMEDIA/PRICES', 
                                qopts = { 'columns': ['ticker', 'date', 'open', 'high', 'low', 'close', 'volume'] }, 
                                ticker = ['GOOG'], 
                                date = { 'gte': '2023-04-01', 'lte': '2024-04-01' })

print(f"Downloaded {len(GOOG_stock)} rows of data.")

# Display sample data
#GOOG_stock.head()


# Use Pandas Nasdaq Data Link to get stock data

META_stock = nasdaqdatalink.get_table('QUOTEMEDIA/PRICES', 
                                qopts = { 'columns': ['ticker', 'date', 'open', 'high', 'low', 'close', 'volume'] }, 
                                ticker = ['META'], 
                                date = { 'gte': '2023-04-01', 'lte': '2024-04-01' })

print(f"Downloaded {len(META_stock)} rows of data.")

# Display sample data
#META_stock.head()


# Use Pandas Nasdaq Data Link to get stock data

MSFT_stock = nasdaqdatalink.get_table('QUOTEMEDIA/PRICES', 
                                qopts = { 'columns': ['ticker', 'date', 'open', 'high', 'low', 'close', 'volume'] }, 
                                ticker = ['MSFT'], 
                                date = { 'gte': '2023-04-01', 'lte': '2024-04-01' })

print(f"Downloaded {len(MSFT_stock)} rows of data.")

# Display sample data
#MSFT_stock.head()


# Use Pandas Nasdaq Data Link to get stock data

MSTR_stock = nasdaqdatalink.get_table('QUOTEMEDIA/PRICES', 
                                qopts = { 'columns': ['ticker', 'date', 'open', 'high', 'low', 'close', 'volume'] }, 
                                ticker = ['MSTR'], 
                                date = { 'gte': '2023-04-01', 'lte': '2024-04-01' })

print(f"Downloaded {len(MSTR_stock)} rows of data.")

# Display sample data
#MSTR_stock.head()


# Use Pandas Nasdaq Data Link to get stock data

AAPL_stock = nasdaqdatalink.get_table('QUOTEMEDIA/PRICES', 
                                qopts = { 'columns': ['ticker', 'date', 'open', 'high', 'low', 'close', 'volume'] }, 
                                ticker = ['AAPL'], 
                                date = { 'gte': '2023-04-01', 'lte': '2024-04-01' })

print(f"Downloaded {len(AAPL_stock)} rows of data.")

# Display sample data
#AAPL_stock.head()


# Use Pandas Nasdaq Data Link to get stock data

MNDY_stock = nasdaqdatalink.get_table('QUOTEMEDIA/PRICES', 
                                qopts = { 'columns': ['ticker', 'date', 'open', 'high', 'low', 'close', 'volume'] }, 
                                ticker = ['MNDY'], 
                                date = { 'gte': '2023-04-01', 'lte': '2024-04-01' })

print(f"Downloaded {len(MNDY_stock)} rows of data.")

# Display sample data
#MNDY_stock.head()


# Use Pandas Nasdaq Data Link to get stock data

#TEAM_stock = nasdaqdatalink.get_table('QUOTEMEDIA/PRICES', 
                                #qopts = { 'columns': ['ticker', 'date', 'open', 'high', 'low', 'close', 'volume'] }, 
                                #ticker = ['TEAM'], 
                                #date = { 'gte': '2023-04-01', 'lte': '2024-04-01' })

#print(f"Downloaded {len(TEAM_stock)} rows of data.")


# Display sample data
#TEAM_stock.head()






#Define path to obtain files
GOOG_stock = Path("./Resources/GOOG_stock.csv")
META_stock = Path("./Resources/META_stock.csv")
MSFT_stock = Path("./Resources/MSFT_stock.csv")
MNDY_stock = Path("./Resources/MNDY_stock.csv")
AAPL_stock = Path("./Resources/AAPL_stock.csv")
MSTR_stock = Path("./Resources/MSTR_stock.csv")
#TEAM_stock = Path("./Resources/TEAM_stock.csv")

#Read the csv file
GOOG_stock_df = pd.read_csv(GOOG_stock)

print(f"Google dataframe head is:")
GOOG_stock_df.head()


META_stock_df = pd.read_csv(META_stock)
print(f"META dataframe head is:") 
META_stock_df.head()


MSFT_stock_df = pd.read_csv(MSFT_stock)
print(f"MSFT dataframe head is:") 
MSFT_stock_df.head()


MSTR_stock_df = pd.read_csv(MSTR_stock)
print(f"MSTR dataframe head is:") 
MSTR_stock_df.head()


MNDY_stock_df = pd.read_csv(MNDY_stock)
print(f"MNDY dataframe head is:") 
MNDY_stock_df.head()


AAPL_stock_df = pd.read_csv(AAPL_stock)
print(f"AAPL dataframe head is:") 
AAPL_stock_df.head()


#TEAM_stock_df = pd.read_csv(TEAM_stock)
#print(f"TEAM dataframe head is:") 
#TEAM_stock_df.head()





#Change Date Order
GOOG_date = GOOG_stock_df.sort_values(by="date").reset_index()
META_date = META_stock_df.sort_values(by="date").reset_index()
MSFT_date = MSFT_stock_df.sort_values(by="date").reset_index()
MSTR_date = MSTR_stock_df.sort_values(by="date").reset_index()
AAPL_date = AAPL_stock_df.sort_values(by="date").reset_index()
MNDY_date = MNDY_stock_df.sort_values(by="date").reset_index()
#TEAM_date = TEAM_stock_df.sort_values(by="date").reset_index()


#Check if the date order is sorted
GOOG_date.head()


# #Export the API and cleaned Data into a csv for future use
GOOG_date.to_csv("output_data/GOOG_stock.csv")
META_date.to_csv("output_data/META_stock.csv")
MSFT_date.to_csv("output_data/MSFT_stock.csv")
MSTR_date.to_csv("output_data/MSTR_stock.csv")
AAPL_date.to_csv("output_data/AAPL_stock.csv")
MNDY_date.to_csv("output_data/MNDY_stock.csv")
#TEAM_date.to_csv("output_data/TEAM_stock.csv")


#Import the CSV Files for data clean up
GOOG_data = "output_data/GOOG_stock.csv"
META_data = "output_data/META_stock.csv"
MSFT_data = "output_data/MSFT_stock.csv"
MSTR_data = "output_data/MSTR_stock.csv"
AAPL_data = "output_data/AAPL_stock.csv"
MNDY_data = "output_data/MNDY_stock.csv"
#TEAM_data = "output_data/TEAM_stock.csv"

GOOG_data = pd.read_csv(GOOG_data)
META_data = pd.read_csv(META_data)
MSFT_data = pd.read_csv(MSFT_data)
MSTR_data = pd.read_csv(MSTR_data)
AAPL_data = pd.read_csv(AAPL_data)
MNDY_data = pd.read_csv(MNDY_data)
#TEAM_data = pd.read_csv(TEAM_data)

#Print sample data:
GOOG_data.head()





#Define the Company Names and Lists for Project
GOOG = GOOG_data
META = META_data
MSFT = MSFT_data
MSTR = MSTR_data
AAPL = AAPL_data
MNDY = MNDY_data
#TEAM = TEAM_data

company_list = [GOOG, META, MSFT, MSTR, AAPL, MNDY] #, TEAM]
company_name = ['GOOG', 'META', 'MSFT','MSTR', 'AAPL', 'MNDY'] #, 'TEAM']


#Summary stats
data_close = pd.DataFrame({"GOOG": GOOG_stock_df["close"],
                            "META": META_stock_df["close"],
                            "MSFT": MSFT_stock_df["close"],
                            "MSTR": MSTR_stock_df["close"],
                            "AAPL": AAPL_stock_df["close"],
                            "MNDY": MNDY_stock_df["close"]})

aggregate = data_close.aggregate([st.mean, st.median, st.variance, st.stdev])

print(f"The summary statistics for closing prices of our data: Orange is max, green is min")
aggregate.style.highlight_max(axis=1, color = "orange").highlight_min(axis=1, color = "lightgreen")


#Print box plot for each stock
fig, ax = plt.subplots()
ax.boxplot(data_close)
ax.set_xticklabels(data_close.keys())
plt.title("How are the closing prices distributed for each company?")


#Remove MSTR to better visualise data
data_close[["GOOG", "META", "MSFT", "AAPL", "MNDY"]].boxplot()
plt.title("How are the closing prices distributed without MSTR?")
plt.grid(False)








#Lets add the moving averages of the Stocks, for 10, 20 & 50 days to the data frames

ma_day = [10, 20, 50]

for ma in ma_day:
    for company in company_list:
        column_name = f"MA for {ma} days"
        company[column_name] = company['close'].rolling(ma).mean()

#Lets add the daily % change, Average Trade volume, Daily Change and Average Percent change of the stocks to the data frames
for company in company_list:
    company['Daily Percent Change'] = company['close'].pct_change()
    company['Average Trade Volume'] = company['volume'].mean()
    company['Daily Change'] = (company['close']-company['open'])
    company['Average Percent Change'] = company['Daily Percent Change'].mean()
    
#Test by checking a sample stock
AAPL_data.head(11)


#Lets remove the NaN values from each of the data frames
#for company in company_list:
   #company.fillna(0, inplace=True)

#Test by checking a sample stock
#AAPL_data.head(50)








#Let's see a historical view of the closing price of each stock

plt.figure(figsize=(20, 20))
plt.subplots_adjust(top=1.25, bottom=1.2)

for i, company in enumerate(company_list, 1):
    plt.subplot(4, 3, i)
    plt.plot(company['date'], company['close'],label=["Close"])
    plt.ylabel('Close ($)')
    plt.xlabel(None)
    plt.title(f"Close price for {company_name[i - 1]}")
    plt.legend()
    plt.gca().xaxis.set_major_locator(ticker.MaxNLocator(integer=True, nbins=10))
    plt.xticks(rotation=90)
    #plt.suptitle('Stock daily closing price')

#Save the plot
plt.savefig("output_data/Close price.png")
    
plt.tight_layout()





#Let's see a historical view of the closing price of each stock on single chart
plt.figure(figsize=(25, 10))
#plt.subplots_adjust(top=1.25, bottom=1.2)

for i, company in enumerate(company_list, 1):
    #company['close'].plot()
    plt.plot(company['date'], company['close'],label=company["ticker"].unique())
    plt.ylabel('Close ($)')
    plt.title(f"Close price for all Stocks")
    plt.legend()
    plt.xticks(rotation=90)
    plt.gca().xaxis.set_major_locator(ticker.MaxNLocator(integer=True, nbins=10))
    plt.xticks()

#Save the plot
plt.savefig("output_data/Close price for all stocks.png")

#plt.tight_layout()
plt.show()





#Create a dataframe with only 52W open, highest stock , lowest stock price, change and change percent price and max volume traded:
#Create empty list for values
company_52W_open = []
company_high = []
company_low = []
company_52W_close = []
company_maxvol = []
company_52W_change = []
company_52W_change_percent = []

for company in company_list:
    company_52W_open.append(company.iloc[0, 4])
    company_high.append(company["high"].max())
    company_low.append(company["low"].min())
    company_52W_close.append(company.iloc[249, 7])
    company_maxvol.append(company["volume"].max())
    company_52W_change.append((company.iloc[249, 7]) - (company.iloc[0, 4]))
    company_52W_change_percent.append((((company.iloc[249, 7]) - (company.iloc[0, 4])) / company.iloc[0,4])*100)

#lets create the new dataframe base on the 
stockprice_df = pd.DataFrame({"Company": company_name,
             "52W Open Stock Price": company_52W_open,
             "52W Highest Stock Price": company_high,
             "52W Lowest Stock Price": company_low,
             "52W Close Stock Price" : company_52W_close,
             "52W Stock Change ($)": company_52W_change,
             "52W Stock Change Percent (%)": company_52W_change_percent,
             "Max Volume": company_maxvol})

#Print the data frame
#stockprice_df.transpose() #If we needed the table is a rotated format
stockprice_df.head(10)





#Now let's plot the total volume of stock being traded each day
plt.figure(figsize=(20, 20))
plt.subplots_adjust(top=1.25, bottom=1.2)

for i, company in enumerate(company_list, 1):
    plt.subplot(4, 3, i)
    plt.plot(company['date'], company['volume'], company['Average Trade Volume'],label=["Volume"])
    plt.ylabel('Volume (10 Million)')
    plt.xlabel(None)
    plt.title(f"Trade Volume for {company_name[i - 1]}")
    plt.legend(company[['volume', 'Average Trade Volume']])
    plt.gca().xaxis.set_major_locator(ticker.MaxNLocator(integer=True, nbins=10))
    plt.xticks(rotation=90)
    
plt.tight_layout()
plt.show()





#Now let's plot the total Moving Average using 10, 20 & 50 days of stock
plt.figure(figsize=(20, 20))
plt.subplots_adjust(top=1.25, bottom=1.2)

for i, company in enumerate(company_list, 1):
    plt.subplot(4, 3, i)
    plt.plot(company['date'], company[['close', 'MA for 10 days', 'MA for 20 days', 'MA for 50 days']])
    plt.ylabel('Value ($)')
    plt.xlabel(None)
    plt.title(f"Moving Analysis for {company_name[i - 1]}")
    plt.legend(company[['close', 'MA for 10 days', 'MA for 20 days', 'MA for 50 days']])
    plt.gca().xaxis.set_major_locator(ticker.MaxNLocator(integer=True, nbins=10))
    plt.xticks(rotation=90)
    
plt.tight_layout()
plt.show()


#Now let's plot the total volume of stock being traded each day
plt.figure(figsize=(20, 20))
plt.subplots_adjust(top=1.25, bottom=1.2)

for i, company in enumerate(company_list, 1):
    plt.subplot(4, 3, i)
    plt.plot(company['date'], company['Daily Percent Change'], company['Average Percent Change']) #, company['MA for 20 days'], company['MA for 50 days'])
    plt.ylabel('Daily % Change')
    plt.xlabel(None)
    plt.title(f" {company_name[i - 1]}")
    plt.legend(company[['Daily Percent Change', 'Average Percent Change']])
    plt.gca().xaxis.set_major_locator(ticker.MaxNLocator(integer=True, nbins=10))
    plt.xticks(rotation=90)
    
plt.tight_layout()
#plt.show()


#Create a dataframe with only highest stock price and volume traded:
company_high = []
company_maxvol = []
for company in company_list:
    company_high.append(company["high"].max())
    company_maxvol.append(company["volume"].max())

stockprice_volume_df = pd.DataFrame({"Company": company_name,
             "Highest Stock Price": company_high,
             "Max Volume": company_maxvol})
stockprice_volume_df


#Create a bar plot for highest stock price:

def addlabels(x,y):
    for i in range(len(x)):
        plt.text(i,y[i]//2,y[i], ha = 'center', color = 'white', fontsize = 'xx-small')

x = stockprice_volume_df["Company"]
y = stockprice_volume_df["Highest Stock Price"]

stockprice_volume_df.plot(kind = "bar", x = "Company", y = "Highest Stock Price")
plt.title("What was the highest stock price for each company?")
plt.ylabel("Stock Price")
addlabels(x,y)

plt.savefig("./output_data/stock_price_bar.png")
plt.show()


#Create a bar plot for greatest volume of stock traded:
def addlabels(x,y):
    for i in range(len(x)):
        plt.text(i,y[i],y[i], ha = 'center', fontsize = 'small')
x = stockprice_volume_df["Company"]
y = stockprice_volume_df["Max Volume"]

stockprice_volume_df.plot(kind = "bar", x = "Company", y = "Max Volume")
plt.title("What was the greatest volume of stock traded for each company?")
plt.ylabel("Stock Volume")
addlabels(x,y)
plt.savefig("./output_data/stock_vol_bar.png")
plt.show()


#Create a dataframe with only lowest stock price and volume traded:
company_low = []
company_minvol = []
for company in company_list:
    company_low.append(company["low"].min())
    company_minvol.append(company["volume"].min())


stockprice_low_df = pd.DataFrame({"Company": company_name,
             "Lowest Stock Price": company_low,
             "Min Volume": company_minvol})
stockprice_low_df


#Better visualising the stock volume

#Create bins
bins = [0, 30000000, 60000000, 90000000, 120000000, 150000000]
group_names = ["<30M", "30M - 60M", "60M-90M", "90M - 120M", "120M - 150M"]

#create a copy of the datasets
GOOG_data_copy = GOOG_data
META_data_copy = META_data
MSFT_data_copy = MSFT_data
MSTR_data_copy = MSTR_data
AAPL_data_copy = AAPL_data
MNDY_data_copy = MNDY_data

#Append a new column with bins for volume ranges:
GOOG_data_copy["Volume Ranges"] = pd.cut(GOOG_data_copy["volume"], bins, labels = group_names, include_lowest = True)
GOOG_data_copy

META_data_copy["Volume Ranges"] = pd.cut(META_data_copy["volume"], bins, labels = group_names, include_lowest = True)
META_data_copy

MSTR_data_copy["Volume Ranges"] = pd.cut(MSTR_data_copy["volume"], bins, labels = group_names, include_lowest = True)
MSTR_data_copy

MSFT_data_copy["Volume Ranges"] = pd.cut(MSFT_data_copy["volume"], bins, labels = group_names, include_lowest = True)
MSFT_data_copy

AAPL_data_copy["Volume Ranges"] = pd.cut(AAPL_data_copy["volume"], bins, labels = group_names, include_lowest = True)
AAPL_data_copy

MNDY_data_copy["Volume Ranges"] = pd.cut(MNDY_data_copy["volume"], bins, labels = group_names, include_lowest = True)
MNDY_data_copy


GOOG_volume = pd.DataFrame(GOOG_data_copy["Volume Ranges"].value_counts()).rename(columns = {"count":"Google Volume"})
GOOG_volume


#Repeat for other companies
META_volume = pd.DataFrame(META_data_copy["Volume Ranges"].value_counts()).rename(columns = {"count":"META Volume"})

MSFT_volume = pd.DataFrame(MSFT_data_copy["Volume Ranges"].value_counts()).rename(columns = {"count":"MSFT Volume"})

MSTR_volume = pd.DataFrame(MSTR_data_copy["Volume Ranges"].value_counts()).rename(columns = {"count":"MSTR Volume"})

AAPL_volume = pd.DataFrame(AAPL_data_copy["Volume Ranges"].value_counts()).rename(columns = {"count":"AAPL Volume"})

MNDY_volume = pd.DataFrame(MNDY_data_copy["Volume Ranges"].value_counts()).rename(columns = {"count":"MNDY Volume"})


company_volumes = pd.concat([GOOG_volume, META_volume, MSFT_volume, MSTR_volume, AAPL_volume, MNDY_volume], axis = 1)
company_volumes


company_volumes.plot(kind='bar', figsize=(15, 5))
plt.ylabel("Volume Amount")
plt.title("Distribution of traded volume")
plt.savefig("./output_data/volume_ranges.png")
plt.show()





#Build scatter plot for AAPL Close v Volume
x_values = AAPL_data['volume']
y_values = AAPL_data['close']
plt.scatter(x_values, y_values)

# Incorporate the other graph properties
plt.xlabel("Volume")
plt.ylabel("Close ($)")
plt.title("AAPL Close Price Vs. Volume")
#plt.grid()

#Save the figure
#plt.savefig("output_data/Fig1.png")

#Show plot
fig.tight_layout()


#Define a function to create Linear Regression plots
def createLinearRegressionPlot(x_values, y_values, x_label, y_label, line_placement, ylim=None):
    (slope, intercept, rvalue, pvalue, stderr) = linregress(x_values, y_values)

#Get regression values
    regress_values = x_values * slope + intercept
    
    #print(regress_values)
    line_eq = "y = " + str(round(slope,2)) + "x +" + str(round(intercept,2))
    plt.scatter(x_values, y_values)
    plt.xlabel(x_label)
    plt.ylabel(y_label)
    if ylim is not None:
        plt.ylim(0, ylim)
    
    plt.title(f"AAPL Close Price - {x_label} vs {y_label}")
    plt.annotate(line_eq,line_placement,fontsize=15,color="red")

    # Print r square value
    print(f"The r-squared is: {rvalue**2}")
    correlation = stpy.pearsonr(x_values,y_values)
    print(f"The correlation between both factors is {round(correlation[0],2)}")

    return plt.plot(x_values,regress_values,"r-")


#Linear regression on AAPL
x_values = AAPL_data['volume']
y_values = AAPL_data['close']
createLinearRegressionPlot(x_values, y_values, "Volume", "Close ($)",(0, 0))
