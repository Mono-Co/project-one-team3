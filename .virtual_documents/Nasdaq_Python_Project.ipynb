


# Dependencies and Setup
from pathlib import Path
import pandas as pd
import hvplot.pandas
import numpy as np
import matplotlib.pyplot as plt
import statistics
import nasdaqdatalink


# Collects the user's input for the prompt "What Stock should we search for?"
# name = input("What Stock should we search for? ")
# date = input("What search start date should we use ?")


# Method 1: In case of paid membership with Nasdaq datsource: Use method 2 (see below) in case of free membership. 
# Use Pandas Nasdaq Data Link to get stock data

GOOG_stock = nasdaqdatalink.get_table('QUOTEMEDIA/PRICES', 
                                qopts = { 'columns': ['ticker', 'date', 'open', 'high', 'low', 'close', 'volume'] }, 
                                ticker = ['GOOG'], 
                                date = { 'gte': '2023-04-01', 'lte': '2024-04-01' })

print(f"Downloaded {len(GOOG_stock)} rows of data.")

# Display sample data
#GOOG_stock.head()


# Use Pandas Nasdaq Data Link to get stock data

META_stock = nasdaqdatalink.get_table('QUOTEMEDIA/PRICES', 
                                qopts = { 'columns': ['ticker', 'date', 'open', 'high', 'low', 'close', 'volume'] }, 
                                ticker = ['META'], 
                                date = { 'gte': '2023-04-01', 'lte': '2024-04-01' })

print(f"Downloaded {len(META_stock)} rows of data.")

# Display sample data
#META_stock.head()


# Use Pandas Nasdaq Data Link to get stock data

MSFT_stock = nasdaqdatalink.get_table('QUOTEMEDIA/PRICES', 
                                qopts = { 'columns': ['ticker', 'date', 'open', 'high', 'low', 'close', 'volume'] }, 
                                ticker = ['MSFT'], 
                                date = { 'gte': '2023-04-01', 'lte': '2024-04-01' })

print(f"Downloaded {len(MSFT_stock)} rows of data.")

# Display sample data
#MSFT_stock.head()


# Use Pandas Nasdaq Data Link to get stock data

MSTR_stock = nasdaqdatalink.get_table('QUOTEMEDIA/PRICES', 
                                qopts = { 'columns': ['ticker', 'date', 'open', 'high', 'low', 'close', 'volume'] }, 
                                ticker = ['MSTR'], 
                                date = { 'gte': '2023-04-01', 'lte': '2024-04-01' })

print(f"Downloaded {len(MSTR_stock)} rows of data.")

# Display sample data
#MSTR_stock.head()


# Use Pandas Nasdaq Data Link to get stock data

AAPL_stock = nasdaqdatalink.get_table('QUOTEMEDIA/PRICES', 
                                qopts = { 'columns': ['ticker', 'date', 'open', 'high', 'low', 'close', 'volume'] }, 
                                ticker = ['AAPL'], 
                                date = { 'gte': '2023-04-01', 'lte': '2024-04-01' })

print(f"Downloaded {len(AAPL_stock)} rows of data.")

# Display sample data
#AAPL_stock.head()


# Use Pandas Nasdaq Data Link to get stock data

MNDY_stock = nasdaqdatalink.get_table('QUOTEMEDIA/PRICES', 
                                qopts = { 'columns': ['ticker', 'date', 'open', 'high', 'low', 'close', 'volume'] }, 
                                ticker = ['MNDY'], 
                                date = { 'gte': '2023-04-01', 'lte': '2024-04-01' })

print(f"Downloaded {len(MNDY_stock)} rows of data.")

# Display sample data
#MNDY_stock.head()


# Use Pandas Nasdaq Data Link to get stock data

TEAM_stock = nasdaqdatalink.get_table('QUOTEMEDIA/PRICES', 
                                qopts = { 'columns': ['ticker', 'date', 'open', 'high', 'low', 'close', 'volume'] }, 
                                ticker = ['TEAM'], 
                                date = { 'gte': '2023-04-01', 'lte': '2024-04-01' })

print(f"Downloaded {len(TEAM_stock)} rows of data.")


# Display sample data
#TEAM_stock.head()


# Method 2: In case of free membership wirh Nasdaq datasource, use csv files stored in Resources folder:

#Define path to obtain files
GOOG_stock = Path("./Resources/GOOG_stock.csv")
META_stock = Path("./Resources/META_stock.csv")
MSFT_stock = Path("./Resources/MSFT_stock.csv")
MNDY_stock = Path("./Resources/MNDY_stock.csv")
AAPL_stock = Path("./Resources/AAPL_stock.csv")
MSTR_stock = Path("./Resources/MSTR_stock.csv")
TEAM_stock = Path("./Resources/TEAM_stock.csv")

#Read the csv file
GOOG_stock_df = pd.read_csv(GOOG_stock)
print(f"Google dataframe head is: {GOOG_stock_df.head()}")


META_stock_df = pd.read_csv(META_stock)
print(f"META dataframe head is: {META_stock_df.head()}")

MSFT_stock_df = pd.read_csv(MSFT_stock)
print(f"MSFT dataframe head is: {MSFT_stock_df.head()}")


MNDY_stock_df = pd.read_csv(MNDY_stock)
print(f"MONDAY dataframe head is: {MNDY_stock_df.head()}")

AAPL_stock_df = pd.read_csv(AAPL_stock)
print(f"AAPL dataframe head is: {AAPL_stock_df.head()}")

MSTR_stock_df = pd.read_csv(MSTR_stock)
print(f"MSTR dataframe head is: {MSTR_stock_df.head()}")


TEAM_stock_df = pd.read_csv(TEAM_stock)
print(f"TEAM dataframe head is: {TEAM_stock_df.head()}")


#Change Date Order
GOOG_date = GOOG_stock_df.sort_values(by="date").reset_index()
META_date = META_stock_df.sort_values(by="date").reset_index()
MSFT_date = MSFT_stock_df.sort_values(by="date").reset_index()
MSTR_date = MSTR_stock_df.sort_values(by="date").reset_index()
AAPL_date = AAPL_stock_df.sort_values(by="date").reset_index()
MNDY_date = MNDY_stock_df.sort_values(by="date").reset_index()
TEAM_date = TEAM_stock_df.sort_values(by="date").reset_index()


GOOG_date.head()


# Export the Data into a csv
GOOG_date.to_csv("output_data/GOOG_stock.csv")
META_date.to_csv("output_data/META_stock.csv")
MSFT_date.to_csv("output_data/MSFT_stock.csv")
MSTR_date.to_csv("output_data/MSTR_stock.csv")
AAPL_date.to_csv("output_data/AAPL_stock.csv")
MNDY_date.to_csv("output_data/MNDY_stock.csv")
TEAM_date.to_csv("output_data/TEAM_stock.csv")


GOOG_data = "output_data/GOOG_stock.csv"
META_data = "output_data/META_stock.csv"
MSFT_data = "output_data/MSFT_stock.csv"
MSTR_data = "output_data/MSTR_stock.csv"
AAPL_data = "output_data/AAPL_stock.csv"
MNDY_data = "output_data/MNDY_stock.csv"
TEAM_data = "output_data/TEAM_stock.csv"

GOOG_data = pd.read_csv(GOOG_data)
META_data = pd.read_csv(META_data)
MSFT_data = pd.read_csv(MSFT_data)
MSTR_data = pd.read_csv(MSTR_data)
AAPL_data = pd.read_csv(AAPL_data)
MNDY_data = pd.read_csv(MNDY_data)
TEAM_data = pd.read_csv(TEAM_data)

GOOG_data.head()


#Define the Company Names and Lists for Project
GOOG = GOOG_data
META = META_data
MSFT = MSFT_data
MSTR = MSTR_data
AAPL = AAPL_data
MNDY = MNDY_data
TEAM = TEAM_data

company_list = [GOOG, META, MSFT, MSTR, AAPL, MNDY, TEAM]
company_name = ['GOOG', 'META', 'MSFT','MSTR', 'AAPL', 'MNDY', 'TEAM']


# Let's see a historical view of the closing price
plt.figure(figsize=(15, 20))
plt.subplots_adjust(top=1.25, bottom=1.2)

for i, company in enumerate(company_list, 1):
    plt.subplot(4, 2, i)
    company['open'].plot()
    plt.ylabel('open')
    plt.xlabel('date')
    plt.title(f"Close price for {company_name[i - 1]}")
    plt.legend()
    plt.xticks(rotation=45)
    
plt.tight_layout()


# Let's see a historical view of the closing price on single chart
plt.figure(figsize=(15, 20))
plt.subplots_adjust(top=1.25, bottom=1.2)

for i, company in enumerate(company_list, 1):
    company['close'].plot()
    plt.ylabel('Close ($)')
    plt.title(f"Close price for all Stocks")
    plt.legend('ticker')
    
plt.tight_layout()


# Now let's plot the total volume of stock being traded each day
plt.figure(figsize=(15, 20))
plt.subplots_adjust(top=1.25, bottom=1.2)

for i, company in enumerate(company_list, 1):
    plt.subplot(4, 2, i)
    company['volume'].plot()
    plt.ylabel('volume')
    plt.xlabel(None)
    plt.title(f"Trade Volume for {company_name[i - 1]}")
    
plt.tight_layout()


#Print box plot for each stock



#Cereate data frame for each Ticker for % Change, 
GOOG_close_change = GOOG_data.groupby(['ticker'])['open'].pct_change(-1)
GOOG_close_change.head()


percentage_change = ((values[1:] - values[:-1]) / values[:-1]) * 100
